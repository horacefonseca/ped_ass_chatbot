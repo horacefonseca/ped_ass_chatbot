{
  "nbformat": 4,
  "nbformat_minor": 0,
  "metadata": {
    "colab": {
      "provenance": [],
      "collapsed_sections": []
    },
    "kernelspec": {
      "name": "python3",
      "display_name": "Python 3"
    },
    "language_info": {
      "name": "python"
    }
  },
  "cells": [
    {
      "cell_type": "markdown",
      "source": [
        "# 🏥 Pediatric Associates Chatbot - Testing Suite\n",
        "\n",
        "Este notebook te permite probar completamente el chatbot médico después de sincronizar con el repositorio.\n",
        "\n",
        "## 📋 Pasos de configuración:\n",
        "1. Ejecuta las celdas en orden\n",
        "2. Prueba las diferentes funcionalidades \n",
        "3. Revisa los resultados de las pruebas"
      ],
      "metadata": {
        "id": "header"
      }
    },
    {
      "cell_type": "markdown",
      "source": [
        "## 🔧 Paso 1: Clonar repositorio e instalar dependencias"
      ],
      "metadata": {
        "id": "setup-header"
      }
    },
    {
      "cell_type": "code",
      "source": [
        "# Clonar el repositorio (reemplaza con tu URL)\n",
        "!git clone https://github.com/horacefonseca/ped_ass_chatbot.git\n",
        "%cd ped_ass_chatbot\n",
        "\n",
        "# Instalar dependencias\n",
        "!pip install chatterbot chatterbot_corpus pytz\n",
        "\n",
        "print(\"✅ Configuración completada!\")"
      ],
      "metadata": {
        "id": "setup-cell"
      },
      "execution_count": null,
      "outputs": []
    },
    {
      "cell_type": "markdown",
      "source": [
        "## 🤖 Paso 2: Inicializar el Chatbot"
      ],
      "metadata": {
        "id": "init-header"
      }
    },
    {
      "cell_type": "code",
      "source": [
        "# Importar y ejecutar el código del chatbot\n",
        "exec(open('PedAss_MVP_Chatbot_ver5.py').read())\n",
        "\n",
        "# Inicializar el bot\n",
        "print(\"🤖 Inicializando chatbot...\")\n",
        "bot = PediatricChatBot()\n",
        "print(\"✅ Chatbot listo para usar!\")\n",
        "\n",
        "# Mostrar menú inicial\n",
        "print(\"\\n\" + \"=\"*50)\n",
        "print(bot.show_main_menu())"
      ],
      "metadata": {
        "id": "init-bot"
      },
      "execution_count": null,
      "outputs": []
    },
    {
      "cell_type": "markdown",
      "source": [
        "## 🧪 Paso 3: Pruebas Automáticas"
      ],
      "metadata": {
        "id": "auto-test-header"
      }
    },
    {
      "cell_type": "code",
      "source": [
        "def run_booking_test():\n",
        "    \"\"\"Prueba el flujo completo de reserva de cita\"\"\"\n",
        "    print(\"🔥 PROBANDO FLUJO DE RESERVA DE CITA\")\n",
        "    print(\"=\"*50)\n",
        "    \n",
        "    # Reset bot state\n",
        "    bot.current_state = \"MAIN_MENU\"\n",
        "    bot.current_booking = {}\n",
        "    \n",
        "    steps = [\n",
        "        (\"hello\", \"Saludo inicial\"),\n",
        "        (\"appointment\", \"Solicitar cita\"),\n",
        "        (\"Aguilar\", \"Seleccionar doctor\"),\n",
        "        (\"25/07/2025\", \"Seleccionar fecha\"),\n",
        "        (\"10:00 AM\", \"Seleccionar hora\"),\n",
        "        (\"Maria Rodriguez\", \"Ingresar nombre del paciente\"),\n",
        "        (\"yes\", \"Confirmar cita\")\n",
        "    ]\n",
        "    \n",
        "    for i, (input_text, description) in enumerate(steps, 1):\n",
        "        print(f\"\\n👤 Paso {i}: {description}\")\n",
        "        print(f\"📝 Input: '{input_text}'\")\n",
        "        \n",
        "        try:\n",
        "            response = bot.handle_response(input_text)\n",
        "            print(f\"🤖 Respuesta: {response[:100]}...\")\n",
        "            print(\"✅ Éxito\")\n",
        "        except Exception as e:\n",
        "            print(f\"❌ Error: {e}\")\n",
        "    \n",
        "    print(\"\\n🎯 Prueba de reserva completada!\")\n",
        "\n",
        "# Ejecutar la prueba\n",
        "run_booking_test()"
      ],
      "metadata": {
        "id": "booking-test"
      },
      "execution_count": null,
      "outputs": []
    },
    {
      "cell_type": "code",
      "source": [
        "def run_faq_test():\n",
        "    \"\"\"Prueba las funciones de FAQ\"\"\"\n",
        "    print(\"❓ PROBANDO SISTEMA DE FAQs\")\n",
        "    print(\"=\"*50)\n",
        "    \n",
        "    # Reset bot state\n",
        "    bot.current_state = \"MAIN_MENU\"\n",
        "    bot.current_booking = {}\n",
        "    \n",
        "    faq_tests = [\n",
        "        (\"2\", \"Acceder a FAQs\"),\n",
        "        (\"hours\", \"Consultar horarios\"),\n",
        "        (\"location\", \"Consultar ubicación\"),\n",
        "        (\"parking\", \"Consultar estacionamiento\"),\n",
        "        (\"contact\", \"Información de contacto\"),\n",
        "        (\"back\", \"Regresar al menú\")\n",
        "    ]\n",
        "    \n",
        "    for i, (input_text, description) in enumerate(faq_tests, 1):\n",
        "        print(f\"\\n👤 Paso {i}: {description}\")\n",
        "        print(f\"📝 Input: '{input_text}'\")\n",
        "        \n",
        "        try:\n",
        "            response = bot.handle_response(input_text)\n",
        "            print(f\"🤖 Respuesta: {response[:150]}...\")\n",
        "            print(\"✅ Éxito\")\n",
        "        except Exception as e:\n",
        "            print(f\"❌ Error: {e}\")\n",
        "    \n",
        "    print(\"\\n🎯 Prueba de FAQs completada!\")\n",
        "\n",
        "# Ejecutar la prueba\n",
        "run_faq_test()"
      ],
      "metadata": {
        "id": "faq-test"
      },
      "execution_count": null,
      "outputs": []
    },
    {
      "cell_type": "markdown",
      "source": [
        "## 💬 Paso 4: Prueba Interactiva"
      ],
      "metadata": {
        "id": "interactive-header"
      }
    },
    {
      "cell_type": "code",
      "source": [
        "def interactive_chat():\n",
        "    \"\"\"Permite chatear interactivamente con el bot\"\"\"\n",
        "    print(\"💬 MODO CHAT INTERACTIVO\")\n",
        "    print(\"=\"*50)\n",
        "    print(\"💡 Prueba estos comandos:\")\n",
        "    print(\"   • 'appointment' - para reservar cita\")\n",
        "    print(\"   • 'faqs' - para preguntas frecuentes\")\n",
        "    print(\"   • 'menu' - para ver opciones\")\n",
        "    print(\"   • 'quit' - para salir\")\n",
        "    print(\"-\"*50)\n",
        "    \n",
        "    # Reset bot\n",
        "    bot.current_state = \"MAIN_MENU\"\n",
        "    bot.current_booking = {}\n",
        "    \n",
        "    # Show initial menu\n",
        "    print(\"🤖 Bot:\", bot.show_main_menu())\n",
        "    \n",
        "    conversation_count = 0\n",
        "    max_interactions = 8  # Límite para Colab\n",
        "    \n",
        "    while conversation_count < max_interactions:\n",
        "        try:\n",
        "            user_input = input(f\"\\n👤 Tú ({conversation_count+1}/{max_interactions}): \").strip()\n",
        "            \n",
        "            if user_input.lower() in ['quit', 'salir', 'exit']:\n",
        "                print(\"🤖 Bot: ¡Gracias por usar nuestro servicio! Que tengas un buen día.\")\n",
        "                break\n",
        "            \n",
        "            if not user_input:\n",
        "                print(\"🤖 Bot: Por favor ingresa un mensaje.\")\n",
        "                continue\n",
        "            \n",
        "            response = bot.handle_response(user_input)\n",
        "            print(f\"🤖 Bot: {response}\")\n",
        "            \n",
        "            conversation_count += 1\n",
        "            \n",
        "        except KeyboardInterrupt:\n",
        "            print(\"\\n🤖 Bot: Conversación interrumpida. ¡Hasta luego!\")\n",
        "            break\n",
        "        except Exception as e:\n",
        "            print(f\"❌ Error inesperado: {e}\")\n",
        "            print(\"🔄 Reiniciando conversación...\")\n",
        "            bot.current_state = \"MAIN_MENU\"\n",
        "            bot.current_booking = {}\n",
        "    \n",
        "    if conversation_count >= max_interactions:\n",
        "        print(f\"\\n⏰ Límite de {max_interactions} interacciones alcanzado.\")\n",
        "    \n",
        "    print(\"✅ Sesión interactiva terminada.\")\n",
        "\n",
        "# Ejecutar chat interactivo\n",
        "interactive_chat()"
      ],
      "metadata": {
        "id": "interactive-chat"
      },
      "execution_count": null,
      "outputs": []
    },
    {
      "cell_type": "markdown",
      "source": [
        "## 📊 Paso 5: Resumen de Pruebas"
      ],
      "metadata": {
        "id": "summary-header"
      }
    },
    {
      "cell_type": "code",
      "source": [
        "def show_test_summary():\n",
        "    \"\"\"Muestra un resumen de las capacidades del chatbot\"\"\"\n",
        "    print(\"📊 RESUMEN DE CAPACIDADES DEL CHATBOT\")\n",
        "    print(\"=\"*60)\n",
        "    \n",
        "    features = {\n",
        "        \"🏥 Gestión de Citas\": [\n",
        "            \"✅ Reserva de citas médicas\",\n",
        "            \"✅ Selección de doctores y especialidades\",\n",
        "            \"✅ Verificación de disponibilidad en tiempo real\",\n",
        "            \"✅ Confirmación de citas\",\n",
        "            \"✅ Prevención de citas duplicadas\"\n",
        "        ],\n",
        "        \"👨‍⚕️ Doctores Disponibles\": [\n",
        "            \"✅ Dr. Aguilar (Pediatría General) - L,M,V\",\n",
        "            \"✅ Dr. Chacon (Alergias) - M,J\",\n",
        "            \"✅ Dr. Villalobos (Medicina Adolescente) - M\",\n",
        "            \"✅ Dr. Irias (Neonatología) - M,M,J,V\"\n",
        "        ],\n",
        "        \"❓ Sistema de FAQs\": [\n",
        "            \"✅ Horarios de atención\",\n",
        "            \"✅ Ubicación y direcciones\",\n",
        "            \"✅ Información de contacto\",\n",
        "            \"✅ Servicios disponibles\",\n",
        "            \"✅ Información de estacionamiento\"\n",
        "        ],\n",
        "        \"🔧 Funciones Técnicas\": [\n",
        "            \"✅ Manejo de estados de conversación\",\n",
        "            \"✅ Validación de entradas\",\n",
        "            \"✅ Manejo de errores\",\n",
        "            \"✅ Navegación intuitiva\",\n",
        "            \"✅ Timeout de sesión\"\n",
        "        ]\n",
        "    }\n",
        "    \n",
        "    for category, items in features.items():\n",
        "        print(f\"\\n{category}:\")\n",
        "        for item in items:\n",
        "            print(f\"  {item}\")\n",
        "    \n",
        "    print(\"\\n\" + \"=\"*60)\n",
        "    print(\"🎯 ESTADO: CHATBOT COMPLETAMENTE FUNCIONAL\")\n",
        "    print(\"🌟 LISTO PARA PRODUCCIÓN\")\n",
        "    print(\"=\"*60)\n",
        "    \n",
        "    # Show current appointments (demo data)\n",
        "    if hasattr(bot, 'scheduler') and bot.scheduler.appointments:\n",
        "        print(\"\\n📅 CITAS RESERVADAS EN ESTA SESIÓN:\")\n",
        "        for i, apt in enumerate(bot.scheduler.appointments, 1):\n",
        "            print(f\"{i}. {apt['patient']} - Dr. {apt['doctor']} - {apt['date']} {apt['time']}\")\n",
        "    else:\n",
        "        print(\"\\n📅 No hay citas reservadas en esta sesión.\")\n",
        "\n",
        "# Mostrar resumen\n",
        "show_test_summary()"
      ],
      "metadata": {
        "id": "test-summary"
      },
      "execution_count": null,
      "outputs": []
    },
    {
      "cell_type": "markdown",
      "source": [
        "## 🚀 ¡Pruebas Completadas!\n",
        "\n",
        "### ✅ Has probado exitosamente:\n",
        "- Sistema de reservas de citas\n",
        "- FAQs y información de la clínica \n",
        "- Manejo de errores\n",
        "- Conversación interactiva\n",
        "\n",
        "### 📝 Próximos pasos:\n",
        "1. **Personalizar**: Modifica los datos de doctores y horarios según tu clínica\n",
        "2. **Expandir**: Agrega más FAQs y funcionalidades\n",
        "3. **Integrar**: Conecta con sistemas de citas reales\n",
        "4. **Desplegar**: Implementa en tu plataforma web o WhatsApp\n",
        "\n",
        "### 🔧 Para usar en producción:\n",
        "- Conecta con base de datos real\n",
        "- Agrega autenticación de usuarios\n",
        "- Implementa notificaciones\n",
        "- Configura respaldos de datos"
      ],
      "metadata": {
        "id": "conclusion"
      }
    }
  ]
}